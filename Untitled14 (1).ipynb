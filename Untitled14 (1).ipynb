{
  "nbformat": 4,
  "nbformat_minor": 0,
  "metadata": {
    "colab": {
      "name": "Untitled14.ipynb",
      "provenance": [],
      "collapsed_sections": []
    },
    "kernelspec": {
      "name": "python3",
      "display_name": "Python 3"
    },
    "language_info": {
      "name": "python"
    }
  },
  "cells": [
    {
      "cell_type": "code",
      "metadata": {
        "colab": {
          "base_uri": "https://localhost:8080/"
        },
        "id": "zwDPYk4w9c8o",
        "outputId": "30ae3f12-04db-4348-86a1-2b6982255d32"
      },
      "source": [
        "\n",
        "import time\n",
        "\n",
        "def countdown(t):\n",
        "    \n",
        "    while t:\n",
        "        mins, secs = divmod(t, 60)\n",
        "        timer = '{:02d}:{:02d}'.format(mins, secs)\n",
        "        print(timer, end=\"\\r\")\n",
        "        time.sleep(1)\n",
        "        t -= 1\n",
        "      \n",
        "    print('Fire in the hole!!')\n",
        "  \n",
        "\n",
        "t = input(\"Enter the time in seconds: \")\n",
        "  \n",
        "\n",
        "countdown(int(t))"
      ],
      "execution_count": 1,
      "outputs": [
        {
          "output_type": "stream",
          "text": [
            "Fire in the hole!!\n"
          ],
          "name": "stdout"
        }
      ]
    }
  ]
}